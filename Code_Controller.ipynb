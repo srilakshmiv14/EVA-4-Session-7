{
  "nbformat": 4,
  "nbformat_minor": 0,
  "metadata": {
    "accelerator": "GPU",
    "colab": {
      "name": "Code_Controller.ipynb",
      "provenance": [],
      "collapsed_sections": []
    },
    "kernelspec": {
      "name": "python3",
      "display_name": "Python 3"
    },
    "language_info": {
      "codemirror_mode": {
        "name": "ipython",
        "version": 3
      },
      "file_extension": ".py",
      "mimetype": "text/x-python",
      "name": "python",
      "nbconvert_exporter": "python",
      "pygments_lexer": "ipython3",
      "version": "3.7.4"
    },
    "widgets": {
      "application/vnd.jupyter.widget-state+json": {
        "becd986dc05246f59b1913a8409be8f1": {
          "model_module": "@jupyter-widgets/controls",
          "model_name": "HBoxModel",
          "state": {
            "_view_name": "HBoxView",
            "_dom_classes": [],
            "_model_name": "HBoxModel",
            "_view_module": "@jupyter-widgets/controls",
            "_model_module_version": "1.5.0",
            "_view_count": null,
            "_view_module_version": "1.5.0",
            "box_style": "",
            "layout": "IPY_MODEL_e230b9ba8f514344a50214d6c8ecfcbf",
            "_model_module": "@jupyter-widgets/controls",
            "children": [
              "IPY_MODEL_e993fcda955f4765ac2932bc12c99b37",
              "IPY_MODEL_60aa8a6cd5e14758a1bf77d7ce0ff79b"
            ]
          }
        },
        "e230b9ba8f514344a50214d6c8ecfcbf": {
          "model_module": "@jupyter-widgets/base",
          "model_name": "LayoutModel",
          "state": {
            "_view_name": "LayoutView",
            "grid_template_rows": null,
            "right": null,
            "justify_content": null,
            "_view_module": "@jupyter-widgets/base",
            "overflow": null,
            "_model_module_version": "1.2.0",
            "_view_count": null,
            "flex_flow": null,
            "width": null,
            "min_width": null,
            "border": null,
            "align_items": null,
            "bottom": null,
            "_model_module": "@jupyter-widgets/base",
            "top": null,
            "grid_column": null,
            "overflow_y": null,
            "overflow_x": null,
            "grid_auto_flow": null,
            "grid_area": null,
            "grid_template_columns": null,
            "flex": null,
            "_model_name": "LayoutModel",
            "justify_items": null,
            "grid_row": null,
            "max_height": null,
            "align_content": null,
            "visibility": null,
            "align_self": null,
            "height": null,
            "min_height": null,
            "padding": null,
            "grid_auto_rows": null,
            "grid_gap": null,
            "max_width": null,
            "order": null,
            "_view_module_version": "1.2.0",
            "grid_template_areas": null,
            "object_position": null,
            "object_fit": null,
            "grid_auto_columns": null,
            "margin": null,
            "display": null,
            "left": null
          }
        },
        "e993fcda955f4765ac2932bc12c99b37": {
          "model_module": "@jupyter-widgets/controls",
          "model_name": "IntProgressModel",
          "state": {
            "_view_name": "ProgressView",
            "style": "IPY_MODEL_eeb97827055c46acb66c394eb4a7783e",
            "_dom_classes": [],
            "description": "",
            "_model_name": "IntProgressModel",
            "bar_style": "success",
            "max": 1,
            "_view_module": "@jupyter-widgets/controls",
            "_model_module_version": "1.5.0",
            "value": 1,
            "_view_count": null,
            "_view_module_version": "1.5.0",
            "orientation": "horizontal",
            "min": 0,
            "description_tooltip": null,
            "_model_module": "@jupyter-widgets/controls",
            "layout": "IPY_MODEL_169c169e428545318a949f0b813697bc"
          }
        },
        "60aa8a6cd5e14758a1bf77d7ce0ff79b": {
          "model_module": "@jupyter-widgets/controls",
          "model_name": "HTMLModel",
          "state": {
            "_view_name": "HTMLView",
            "style": "IPY_MODEL_67f6530a0a28445eb22bc81ce798adc3",
            "_dom_classes": [],
            "description": "",
            "_model_name": "HTMLModel",
            "placeholder": "​",
            "_view_module": "@jupyter-widgets/controls",
            "_model_module_version": "1.5.0",
            "value": "170500096it [00:06, 27352503.50it/s]",
            "_view_count": null,
            "_view_module_version": "1.5.0",
            "description_tooltip": null,
            "_model_module": "@jupyter-widgets/controls",
            "layout": "IPY_MODEL_63f33eda7ab5401fbc43c36bdba6d9a4"
          }
        },
        "eeb97827055c46acb66c394eb4a7783e": {
          "model_module": "@jupyter-widgets/controls",
          "model_name": "ProgressStyleModel",
          "state": {
            "_view_name": "StyleView",
            "_model_name": "ProgressStyleModel",
            "description_width": "",
            "_view_module": "@jupyter-widgets/base",
            "_model_module_version": "1.5.0",
            "_view_count": null,
            "_view_module_version": "1.2.0",
            "bar_color": null,
            "_model_module": "@jupyter-widgets/controls"
          }
        },
        "169c169e428545318a949f0b813697bc": {
          "model_module": "@jupyter-widgets/base",
          "model_name": "LayoutModel",
          "state": {
            "_view_name": "LayoutView",
            "grid_template_rows": null,
            "right": null,
            "justify_content": null,
            "_view_module": "@jupyter-widgets/base",
            "overflow": null,
            "_model_module_version": "1.2.0",
            "_view_count": null,
            "flex_flow": null,
            "width": null,
            "min_width": null,
            "border": null,
            "align_items": null,
            "bottom": null,
            "_model_module": "@jupyter-widgets/base",
            "top": null,
            "grid_column": null,
            "overflow_y": null,
            "overflow_x": null,
            "grid_auto_flow": null,
            "grid_area": null,
            "grid_template_columns": null,
            "flex": null,
            "_model_name": "LayoutModel",
            "justify_items": null,
            "grid_row": null,
            "max_height": null,
            "align_content": null,
            "visibility": null,
            "align_self": null,
            "height": null,
            "min_height": null,
            "padding": null,
            "grid_auto_rows": null,
            "grid_gap": null,
            "max_width": null,
            "order": null,
            "_view_module_version": "1.2.0",
            "grid_template_areas": null,
            "object_position": null,
            "object_fit": null,
            "grid_auto_columns": null,
            "margin": null,
            "display": null,
            "left": null
          }
        },
        "67f6530a0a28445eb22bc81ce798adc3": {
          "model_module": "@jupyter-widgets/controls",
          "model_name": "DescriptionStyleModel",
          "state": {
            "_view_name": "StyleView",
            "_model_name": "DescriptionStyleModel",
            "description_width": "",
            "_view_module": "@jupyter-widgets/base",
            "_model_module_version": "1.5.0",
            "_view_count": null,
            "_view_module_version": "1.2.0",
            "_model_module": "@jupyter-widgets/controls"
          }
        },
        "63f33eda7ab5401fbc43c36bdba6d9a4": {
          "model_module": "@jupyter-widgets/base",
          "model_name": "LayoutModel",
          "state": {
            "_view_name": "LayoutView",
            "grid_template_rows": null,
            "right": null,
            "justify_content": null,
            "_view_module": "@jupyter-widgets/base",
            "overflow": null,
            "_model_module_version": "1.2.0",
            "_view_count": null,
            "flex_flow": null,
            "width": null,
            "min_width": null,
            "border": null,
            "align_items": null,
            "bottom": null,
            "_model_module": "@jupyter-widgets/base",
            "top": null,
            "grid_column": null,
            "overflow_y": null,
            "overflow_x": null,
            "grid_auto_flow": null,
            "grid_area": null,
            "grid_template_columns": null,
            "flex": null,
            "_model_name": "LayoutModel",
            "justify_items": null,
            "grid_row": null,
            "max_height": null,
            "align_content": null,
            "visibility": null,
            "align_self": null,
            "height": null,
            "min_height": null,
            "padding": null,
            "grid_auto_rows": null,
            "grid_gap": null,
            "max_width": null,
            "order": null,
            "_view_module_version": "1.2.0",
            "grid_template_areas": null,
            "object_position": null,
            "object_fit": null,
            "grid_auto_columns": null,
            "margin": null,
            "display": null,
            "left": null
          }
        }
      }
    }
  },
  "cells": [
    {
      "cell_type": "code",
      "metadata": {
        "colab_type": "code",
        "id": "YFHHFQzv_qJ0",
        "colab": {}
      },
      "source": [
        "from __future__ import print_function\n",
        "import torch\n",
        "import torch.nn as nn\n",
        "import torch.nn.functional as F\n",
        "import torch.optim as optim\n",
        "from torchvision import datasets, transforms\n",
        "from tqdm import tqdm\n",
        "from torch.optim.lr_scheduler import StepLR\n",
        "import matplotlib.pyplot as plt\n",
        "import numpy as np\n",
        "import torchvision\n",
        "import torchsummary\n",
        "from torchsummary import summary"
      ],
      "execution_count": 0,
      "outputs": []
    },
    {
      "cell_type": "markdown",
      "metadata": {
        "colab_type": "text",
        "id": "N-fkSGTa_qJ9"
      },
      "source": [
        "## Importing all the files created "
      ]
    },
    {
      "cell_type": "code",
      "metadata": {
        "colab_type": "code",
        "id": "8jjHeSdO_qJ_",
        "colab": {}
      },
      "source": [
        "from Getting_the_Data import get_and_transform_the_data\n",
        "from Displaying_the_images import display_my_images\n",
        "from Model_and_summary import Net, disp_summary\n",
        "from train_test import train , test"
      ],
      "execution_count": 0,
      "outputs": []
    },
    {
      "cell_type": "markdown",
      "metadata": {
        "colab_type": "text",
        "id": "M-CMa8kc_qKF"
      },
      "source": [
        "## First step is to download and transform the data which here is CIFAR-10"
      ]
    },
    {
      "cell_type": "code",
      "metadata": {
        "colab_type": "code",
        "id": "FN0DK5Cx_qKH",
        "outputId": "7f0c4b90-de97-4c22-af20-27fcb7351d98",
        "colab": {
          "base_uri": "https://localhost:8080/",
          "height": 154,
          "referenced_widgets": [
            "becd986dc05246f59b1913a8409be8f1",
            "e230b9ba8f514344a50214d6c8ecfcbf",
            "e993fcda955f4765ac2932bc12c99b37",
            "60aa8a6cd5e14758a1bf77d7ce0ff79b",
            "eeb97827055c46acb66c394eb4a7783e",
            "169c169e428545318a949f0b813697bc",
            "67f6530a0a28445eb22bc81ce798adc3",
            "63f33eda7ab5401fbc43c36bdba6d9a4"
          ]
        }
      },
      "source": [
        "train_set,test_set,train_loader,test_loader,classes = get_and_transform_the_data()"
      ],
      "execution_count": 7,
      "outputs": [
        {
          "output_type": "stream",
          "text": [
            "CUDA Available? True\n",
            "Downloading https://www.cs.toronto.edu/~kriz/cifar-10-python.tar.gz to ./data/cifar-10-python.tar.gz\n"
          ],
          "name": "stdout"
        },
        {
          "output_type": "display_data",
          "data": {
            "application/vnd.jupyter.widget-view+json": {
              "model_id": "becd986dc05246f59b1913a8409be8f1",
              "version_minor": 0,
              "version_major": 2
            },
            "text/plain": [
              "HBox(children=(IntProgress(value=1, bar_style='info', max=1), HTML(value='')))"
            ]
          },
          "metadata": {
            "tags": []
          }
        },
        {
          "output_type": "stream",
          "text": [
            "\n",
            "Extracting ./data/cifar-10-python.tar.gz to ./data\n",
            "Files already downloaded and verified\n"
          ],
          "name": "stdout"
        }
      ]
    },
    {
      "cell_type": "markdown",
      "metadata": {
        "colab_type": "text",
        "id": "8Qd5l1Lm_qKW"
      },
      "source": [
        "## Moving the model for GPU usage"
      ]
    },
    {
      "cell_type": "code",
      "metadata": {
        "colab_type": "code",
        "id": "iNZbU4Jn_qKY",
        "colab": {}
      },
      "source": [
        "use_cuda= torch.cuda.is_available()\n",
        "device=torch.device('cuda' if use_cuda else 'cpu')\n",
        "model=Net().to(device)"
      ],
      "execution_count": 0,
      "outputs": []
    },
    {
      "cell_type": "code",
      "metadata": {
        "colab_type": "code",
        "id": "tgdDWmiN_qKd",
        "outputId": "66d56daf-8254-4eee-a3b2-d6521e8b09c8",
        "colab": {
          "base_uri": "https://localhost:8080/",
          "height": 1000
        }
      },
      "source": [
        "disp_summary(model)"
      ],
      "execution_count": 9,
      "outputs": [
        {
          "output_type": "stream",
          "text": [
            "----------------------------------------------------------------\n",
            "        Layer (type)               Output Shape         Param #\n",
            "================================================================\n",
            "            Conv2d-1           [-1, 16, 32, 32]             432\n",
            "       BatchNorm2d-2           [-1, 16, 32, 32]              32\n",
            "              ReLU-3           [-1, 16, 32, 32]               0\n",
            "         Dropout2d-4           [-1, 16, 32, 32]               0\n",
            "            Conv2d-5           [-1, 32, 32, 32]           4,608\n",
            "       BatchNorm2d-6           [-1, 32, 32, 32]              64\n",
            "              ReLU-7           [-1, 32, 32, 32]               0\n",
            "         Dropout2d-8           [-1, 32, 32, 32]               0\n",
            "            Conv2d-9           [-1, 64, 32, 32]          18,432\n",
            "      BatchNorm2d-10           [-1, 64, 32, 32]             128\n",
            "             ReLU-11           [-1, 64, 32, 32]               0\n",
            "        Dropout2d-12           [-1, 64, 32, 32]               0\n",
            "           Conv2d-13          [-1, 128, 32, 32]          73,728\n",
            "      BatchNorm2d-14          [-1, 128, 32, 32]             256\n",
            "             ReLU-15          [-1, 128, 32, 32]               0\n",
            "        Dropout2d-16          [-1, 128, 32, 32]               0\n",
            "           Conv2d-17          [-1, 256, 32, 32]         294,912\n",
            "      BatchNorm2d-18          [-1, 256, 32, 32]             512\n",
            "             ReLU-19          [-1, 256, 32, 32]               0\n",
            "        Dropout2d-20          [-1, 256, 32, 32]               0\n",
            "        MaxPool2d-21          [-1, 256, 16, 16]               0\n",
            "           Conv2d-22           [-1, 32, 16, 16]           8,192\n",
            "           Conv2d-23           [-1, 64, 16, 16]          18,432\n",
            "      BatchNorm2d-24           [-1, 64, 16, 16]             128\n",
            "             ReLU-25           [-1, 64, 16, 16]               0\n",
            "        Dropout2d-26           [-1, 64, 16, 16]               0\n",
            "           Conv2d-27          [-1, 128, 16, 16]          73,728\n",
            "      BatchNorm2d-28          [-1, 128, 16, 16]             256\n",
            "             ReLU-29          [-1, 128, 16, 16]               0\n",
            "        Dropout2d-30          [-1, 128, 16, 16]               0\n",
            "           Conv2d-31          [-1, 256, 16, 16]           2,304\n",
            "      BatchNorm2d-32          [-1, 256, 16, 16]             512\n",
            "             ReLU-33          [-1, 256, 16, 16]               0\n",
            "        Dropout2d-34          [-1, 256, 16, 16]               0\n",
            "        MaxPool2d-35            [-1, 256, 8, 8]               0\n",
            "           Conv2d-36             [-1, 32, 8, 8]           8,192\n",
            "           Conv2d-37             [-1, 64, 8, 8]          18,432\n",
            "      BatchNorm2d-38             [-1, 64, 8, 8]             128\n",
            "             ReLU-39             [-1, 64, 8, 8]               0\n",
            "        Dropout2d-40             [-1, 64, 8, 8]               0\n",
            "           Conv2d-41            [-1, 128, 8, 8]          73,728\n",
            "      BatchNorm2d-42            [-1, 128, 8, 8]             256\n",
            "             ReLU-43            [-1, 128, 8, 8]               0\n",
            "        Dropout2d-44            [-1, 128, 8, 8]               0\n",
            "           Conv2d-45            [-1, 128, 6, 6]         147,456\n",
            "      BatchNorm2d-46            [-1, 128, 6, 6]             256\n",
            "             ReLU-47            [-1, 128, 6, 6]               0\n",
            "        Dropout2d-48            [-1, 128, 6, 6]               0\n",
            "           Conv2d-49            [-1, 256, 6, 6]           2,304\n",
            "      BatchNorm2d-50            [-1, 256, 6, 6]             512\n",
            "             ReLU-51            [-1, 256, 6, 6]               0\n",
            "        Dropout2d-52            [-1, 256, 6, 6]               0\n",
            "        MaxPool2d-53            [-1, 256, 3, 3]               0\n",
            "           Conv2d-54             [-1, 32, 3, 3]           8,192\n",
            "           Conv2d-55             [-1, 64, 3, 3]          18,432\n",
            "      BatchNorm2d-56             [-1, 64, 3, 3]             128\n",
            "             ReLU-57             [-1, 64, 3, 3]               0\n",
            "        AvgPool2d-58             [-1, 64, 1, 1]               0\n",
            "           Conv2d-59             [-1, 10, 1, 1]             640\n",
            "================================================================\n",
            "Total params: 775,312\n",
            "Trainable params: 775,312\n",
            "Non-trainable params: 0\n",
            "----------------------------------------------------------------\n",
            "Input size (MB): 0.01\n",
            "Forward/backward pass size (MB): 20.53\n",
            "Params size (MB): 2.96\n",
            "Estimated Total Size (MB): 23.50\n",
            "----------------------------------------------------------------\n"
          ],
          "name": "stdout"
        },
        {
          "output_type": "stream",
          "text": [
            "/content/Model_and_summary.py:110: UserWarning: Implicit dimension choice for log_softmax has been deprecated. Change the call to include dim=X as an argument.\n",
            "  return F.log_softmax(x)\n"
          ],
          "name": "stderr"
        }
      ]
    },
    {
      "cell_type": "code",
      "metadata": {
        "colab_type": "code",
        "id": "eYmRk12R_qKj",
        "outputId": "ccc93c8a-e33f-4a8c-f400-f85324f0e563",
        "colab": {
          "base_uri": "https://localhost:8080/",
          "height": 1000
        }
      },
      "source": [
        "device= 'cuda' if torch.cuda.is_available() else 'cpu'\n",
        "\n",
        "optimizer = optim.SGD(model.parameters(), lr=0.1)\n",
        "scheduler = StepLR(optimizer,step_size=6, gamma=0.1)\n",
        "\n",
        "for epoch in range(1, 21):\n",
        "    print(f'Epoch: {epoch} Learning_Rate {scheduler.get_lr()}')\n",
        "    train(model, device, train_loader, optimizer, epoch)\n",
        "    test(model, device, test_loader)\n",
        "    scheduler.step()"
      ],
      "execution_count": 10,
      "outputs": [
        {
          "output_type": "stream",
          "text": [
            "\r  0%|          | 0/782 [00:00<?, ?it/s]"
          ],
          "name": "stderr"
        },
        {
          "output_type": "stream",
          "text": [
            "Epoch: 1 Learning_Rate [0.1]\n"
          ],
          "name": "stdout"
        },
        {
          "output_type": "stream",
          "text": [
            "/content/Model_and_summary.py:110: UserWarning: Implicit dimension choice for log_softmax has been deprecated. Change the call to include dim=X as an argument.\n",
            "  return F.log_softmax(x)\n",
            "Loss=1.0908914804458618 Batch_id=781 Accuracy=42.01: 100%|██████████| 782/782 [00:36<00:00, 23.46it/s]\n",
            "  0%|          | 0/782 [00:00<?, ?it/s]"
          ],
          "name": "stderr"
        },
        {
          "output_type": "stream",
          "text": [
            "\n",
            "Test set: Average loss: 1.3718, Accuracy: 4825/10000 (48.25%)\n",
            "\n",
            "Epoch: 2 Learning_Rate [0.1]\n"
          ],
          "name": "stdout"
        },
        {
          "output_type": "stream",
          "text": [
            "Loss=1.389590859413147 Batch_id=781 Accuracy=58.98: 100%|██████████| 782/782 [00:36<00:00, 23.69it/s]\n",
            "  0%|          | 0/782 [00:00<?, ?it/s]"
          ],
          "name": "stderr"
        },
        {
          "output_type": "stream",
          "text": [
            "\n",
            "Test set: Average loss: 1.0301, Accuracy: 6344/10000 (63.44%)\n",
            "\n",
            "Epoch: 3 Learning_Rate [0.1]\n"
          ],
          "name": "stdout"
        },
        {
          "output_type": "stream",
          "text": [
            "Loss=1.0088481903076172 Batch_id=781 Accuracy=66.94: 100%|██████████| 782/782 [00:36<00:00, 21.40it/s]\n",
            "  0%|          | 0/782 [00:00<?, ?it/s]"
          ],
          "name": "stderr"
        },
        {
          "output_type": "stream",
          "text": [
            "\n",
            "Test set: Average loss: 0.7712, Accuracy: 7327/10000 (73.27%)\n",
            "\n",
            "Epoch: 4 Learning_Rate [0.1]\n"
          ],
          "name": "stdout"
        },
        {
          "output_type": "stream",
          "text": [
            "Loss=1.1611781120300293 Batch_id=781 Accuracy=70.92: 100%|██████████| 782/782 [00:36<00:00, 23.31it/s]\n",
            "  0%|          | 0/782 [00:00<?, ?it/s]"
          ],
          "name": "stderr"
        },
        {
          "output_type": "stream",
          "text": [
            "\n",
            "Test set: Average loss: 0.7854, Accuracy: 7250/10000 (72.50%)\n",
            "\n",
            "Epoch: 5 Learning_Rate [0.1]\n"
          ],
          "name": "stdout"
        },
        {
          "output_type": "stream",
          "text": [
            "Loss=0.9292756915092468 Batch_id=781 Accuracy=73.93: 100%|██████████| 782/782 [00:36<00:00, 21.18it/s]\n",
            "  0%|          | 0/782 [00:00<?, ?it/s]"
          ],
          "name": "stderr"
        },
        {
          "output_type": "stream",
          "text": [
            "\n",
            "Test set: Average loss: 0.6725, Accuracy: 7641/10000 (76.41%)\n",
            "\n",
            "Epoch: 6 Learning_Rate [0.1]\n"
          ],
          "name": "stdout"
        },
        {
          "output_type": "stream",
          "text": [
            "Loss=0.8737146854400635 Batch_id=781 Accuracy=75.88: 100%|██████████| 782/782 [00:36<00:00, 21.18it/s]\n",
            "  0%|          | 0/782 [00:00<?, ?it/s]"
          ],
          "name": "stderr"
        },
        {
          "output_type": "stream",
          "text": [
            "\n",
            "Test set: Average loss: 0.6242, Accuracy: 7862/10000 (78.62%)\n",
            "\n",
            "Epoch: 7 Learning_Rate [0.0010000000000000002]\n"
          ],
          "name": "stdout"
        },
        {
          "output_type": "stream",
          "text": [
            "Loss=0.5835199952125549 Batch_id=781 Accuracy=79.55: 100%|██████████| 782/782 [00:36<00:00, 21.38it/s]\n",
            "  0%|          | 0/782 [00:00<?, ?it/s]"
          ],
          "name": "stderr"
        },
        {
          "output_type": "stream",
          "text": [
            "\n",
            "Test set: Average loss: 0.5232, Accuracy: 8212/10000 (82.12%)\n",
            "\n",
            "Epoch: 8 Learning_Rate [0.010000000000000002]\n"
          ],
          "name": "stdout"
        },
        {
          "output_type": "stream",
          "text": [
            "Loss=0.20912188291549683 Batch_id=781 Accuracy=80.70: 100%|██████████| 782/782 [00:37<00:00, 20.96it/s]\n",
            "  0%|          | 0/782 [00:00<?, ?it/s]"
          ],
          "name": "stderr"
        },
        {
          "output_type": "stream",
          "text": [
            "\n",
            "Test set: Average loss: 0.5122, Accuracy: 8232/10000 (82.32%)\n",
            "\n",
            "Epoch: 9 Learning_Rate [0.010000000000000002]\n"
          ],
          "name": "stdout"
        },
        {
          "output_type": "stream",
          "text": [
            "Loss=0.6814700365066528 Batch_id=781 Accuracy=80.93: 100%|██████████| 782/782 [00:37<00:00, 20.87it/s]\n",
            "  0%|          | 0/782 [00:00<?, ?it/s]"
          ],
          "name": "stderr"
        },
        {
          "output_type": "stream",
          "text": [
            "\n",
            "Test set: Average loss: 0.5031, Accuracy: 8288/10000 (82.88%)\n",
            "\n",
            "Epoch: 10 Learning_Rate [0.010000000000000002]\n"
          ],
          "name": "stdout"
        },
        {
          "output_type": "stream",
          "text": [
            "Loss=0.7044573426246643 Batch_id=781 Accuracy=81.16: 100%|██████████| 782/782 [00:37<00:00, 20.97it/s]\n",
            "  0%|          | 0/782 [00:00<?, ?it/s]"
          ],
          "name": "stderr"
        },
        {
          "output_type": "stream",
          "text": [
            "\n",
            "Test set: Average loss: 0.4970, Accuracy: 8286/10000 (82.86%)\n",
            "\n",
            "Epoch: 11 Learning_Rate [0.010000000000000002]\n"
          ],
          "name": "stdout"
        },
        {
          "output_type": "stream",
          "text": [
            "Loss=0.6232545375823975 Batch_id=781 Accuracy=81.55: 100%|██████████| 782/782 [00:37<00:00, 20.90it/s]\n",
            "  0%|          | 0/782 [00:00<?, ?it/s]"
          ],
          "name": "stderr"
        },
        {
          "output_type": "stream",
          "text": [
            "\n",
            "Test set: Average loss: 0.4929, Accuracy: 8292/10000 (82.92%)\n",
            "\n",
            "Epoch: 12 Learning_Rate [0.010000000000000002]\n"
          ],
          "name": "stdout"
        },
        {
          "output_type": "stream",
          "text": [
            "Loss=0.4775509238243103 Batch_id=781 Accuracy=81.93: 100%|██████████| 782/782 [00:37<00:00, 22.86it/s]\n",
            "  0%|          | 0/782 [00:00<?, ?it/s]"
          ],
          "name": "stderr"
        },
        {
          "output_type": "stream",
          "text": [
            "\n",
            "Test set: Average loss: 0.4894, Accuracy: 8317/10000 (83.17%)\n",
            "\n",
            "Epoch: 13 Learning_Rate [0.00010000000000000003]\n"
          ],
          "name": "stdout"
        },
        {
          "output_type": "stream",
          "text": [
            "Loss=0.4738684594631195 Batch_id=781 Accuracy=82.66: 100%|██████████| 782/782 [00:37<00:00, 21.04it/s]\n",
            "  0%|          | 0/782 [00:00<?, ?it/s]"
          ],
          "name": "stderr"
        },
        {
          "output_type": "stream",
          "text": [
            "\n",
            "Test set: Average loss: 0.4842, Accuracy: 8326/10000 (83.26%)\n",
            "\n",
            "Epoch: 14 Learning_Rate [0.0010000000000000002]\n"
          ],
          "name": "stdout"
        },
        {
          "output_type": "stream",
          "text": [
            "Loss=0.33245164155960083 Batch_id=781 Accuracy=82.53: 100%|██████████| 782/782 [00:37<00:00, 21.00it/s]\n",
            "  0%|          | 0/782 [00:00<?, ?it/s]"
          ],
          "name": "stderr"
        },
        {
          "output_type": "stream",
          "text": [
            "\n",
            "Test set: Average loss: 0.4855, Accuracy: 8338/10000 (83.38%)\n",
            "\n",
            "Epoch: 15 Learning_Rate [0.0010000000000000002]\n"
          ],
          "name": "stdout"
        },
        {
          "output_type": "stream",
          "text": [
            "Loss=0.5594051480293274 Batch_id=781 Accuracy=82.85: 100%|██████████| 782/782 [00:37<00:00, 21.00it/s]\n",
            "  0%|          | 0/782 [00:00<?, ?it/s]"
          ],
          "name": "stderr"
        },
        {
          "output_type": "stream",
          "text": [
            "\n",
            "Test set: Average loss: 0.4847, Accuracy: 8354/10000 (83.54%)\n",
            "\n",
            "Epoch: 16 Learning_Rate [0.0010000000000000002]\n"
          ],
          "name": "stdout"
        },
        {
          "output_type": "stream",
          "text": [
            "Loss=0.3972783386707306 Batch_id=781 Accuracy=82.74: 100%|██████████| 782/782 [00:37<00:00, 20.74it/s]\n",
            "  0%|          | 0/782 [00:00<?, ?it/s]"
          ],
          "name": "stderr"
        },
        {
          "output_type": "stream",
          "text": [
            "\n",
            "Test set: Average loss: 0.4824, Accuracy: 8362/10000 (83.62%)\n",
            "\n",
            "Epoch: 17 Learning_Rate [0.0010000000000000002]\n"
          ],
          "name": "stdout"
        },
        {
          "output_type": "stream",
          "text": [
            "Loss=0.25160109996795654 Batch_id=781 Accuracy=82.86: 100%|██████████| 782/782 [00:37<00:00, 21.02it/s]\n",
            "  0%|          | 0/782 [00:00<?, ?it/s]"
          ],
          "name": "stderr"
        },
        {
          "output_type": "stream",
          "text": [
            "\n",
            "Test set: Average loss: 0.4825, Accuracy: 8358/10000 (83.58%)\n",
            "\n",
            "Epoch: 18 Learning_Rate [0.0010000000000000002]\n"
          ],
          "name": "stdout"
        },
        {
          "output_type": "stream",
          "text": [
            "Loss=0.9191160202026367 Batch_id=781 Accuracy=82.66: 100%|██████████| 782/782 [00:37<00:00, 20.91it/s]\n",
            "  0%|          | 0/782 [00:00<?, ?it/s]"
          ],
          "name": "stderr"
        },
        {
          "output_type": "stream",
          "text": [
            "\n",
            "Test set: Average loss: 0.4833, Accuracy: 8352/10000 (83.52%)\n",
            "\n",
            "Epoch: 19 Learning_Rate [1.0000000000000004e-05]\n"
          ],
          "name": "stdout"
        },
        {
          "output_type": "stream",
          "text": [
            "Loss=0.6801053881645203 Batch_id=781 Accuracy=82.68: 100%|██████████| 782/782 [00:37<00:00, 21.05it/s]\n",
            "  0%|          | 0/782 [00:00<?, ?it/s]"
          ],
          "name": "stderr"
        },
        {
          "output_type": "stream",
          "text": [
            "\n",
            "Test set: Average loss: 0.4830, Accuracy: 8364/10000 (83.64%)\n",
            "\n",
            "Epoch: 20 Learning_Rate [0.00010000000000000003]\n"
          ],
          "name": "stdout"
        },
        {
          "output_type": "stream",
          "text": [
            "Loss=0.39391911029815674 Batch_id=781 Accuracy=82.73: 100%|██████████| 782/782 [00:37<00:00, 21.08it/s]\n"
          ],
          "name": "stderr"
        },
        {
          "output_type": "stream",
          "text": [
            "\n",
            "Test set: Average loss: 0.4845, Accuracy: 8333/10000 (83.33%)\n",
            "\n"
          ],
          "name": "stdout"
        }
      ]
    },
    {
      "cell_type": "code",
      "metadata": {
        "colab_type": "code",
        "id": "qQiieTU8NnLT",
        "colab": {}
      },
      "source": [
        ""
      ],
      "execution_count": 0,
      "outputs": []
    }
  ]
}